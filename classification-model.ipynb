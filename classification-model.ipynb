{
 "cells": [
  {
   "cell_type": "code",
   "execution_count": 1,
   "id": "946e455e",
   "metadata": {
    "_cell_guid": "b1076dfc-b9ad-4769-8c92-a6c4dae69d19",
    "_uuid": "8f2839f25d086af736a60e9eeb907d3b93b6e0e5",
    "execution": {
     "iopub.execute_input": "2024-05-24T00:32:08.255579Z",
     "iopub.status.busy": "2024-05-24T00:32:08.254985Z",
     "iopub.status.idle": "2024-05-24T00:32:09.232681Z",
     "shell.execute_reply": "2024-05-24T00:32:09.231466Z"
    },
    "papermill": {
     "duration": 0.989071,
     "end_time": "2024-05-24T00:32:09.235396",
     "exception": false,
     "start_time": "2024-05-24T00:32:08.246325",
     "status": "completed"
    },
    "tags": []
   },
   "outputs": [
    {
     "name": "stdout",
     "output_type": "stream",
     "text": [
      "/kaggle/input/playground-series-s4e2/sample_submission.csv\n",
      "/kaggle/input/playground-series-s4e2/train.csv\n",
      "/kaggle/input/playground-series-s4e2/test.csv\n"
     ]
    }
   ],
   "source": [
    "# This Python 3 environment comes with many helpful analytics libraries installed\n",
    "# It is defined by the kaggle/python Docker image: https://github.com/kaggle/docker-python\n",
    "# For example, here's several helpful packages to load\n",
    "\n",
    "import numpy as np # linear algebra\n",
    "import pandas as pd # data processing, CSV file I/O (e.g. pd.read_csv)\n",
    "\n",
    "# Input data files are available in the read-only \"../input/\" directory\n",
    "# For example, running this (by clicking run or pressing Shift+Enter) will list all files under the input directory\n",
    "\n",
    "import os\n",
    "for dirname, _, filenames in os.walk('/kaggle/input'):\n",
    "    for filename in filenames:\n",
    "        print(os.path.join(dirname, filename))\n",
    "\n",
    "# You can write up to 20GB to the current directory (/kaggle/working/) that gets preserved as output when you create a version using \"Save & Run All\" \n",
    "# You can also write temporary files to /kaggle/temp/, but they won't be saved outside of the current session"
   ]
  },
  {
   "cell_type": "code",
   "execution_count": 2,
   "id": "72b3a43b",
   "metadata": {
    "execution": {
     "iopub.execute_input": "2024-05-24T00:32:09.251379Z",
     "iopub.status.busy": "2024-05-24T00:32:09.250824Z",
     "iopub.status.idle": "2024-05-24T00:32:11.306674Z",
     "shell.execute_reply": "2024-05-24T00:32:11.305428Z"
    },
    "papermill": {
     "duration": 2.066892,
     "end_time": "2024-05-24T00:32:11.309466",
     "exception": false,
     "start_time": "2024-05-24T00:32:09.242574",
     "status": "completed"
    },
    "tags": []
   },
   "outputs": [],
   "source": [
    "import numpy as np # linear algebra\n",
    "import pandas as pd \n",
    "import matplotlib.pyplot as plt\n",
    "import seaborn as sns\n",
    "import warnings\n",
    "###for the model and evaluation###\n",
    "from sklearn.metrics import f1_score, accuracy_score,precision_score,recall_score,roc_auc_score\n",
    "from sklearn.model_selection import train_test_split, RandomizedSearchCV, GridSearchCV\n",
    "from sklearn.ensemble import RandomForestClassifier\n",
    "from sklearn.metrics import accuracy_score, f1_score, recall_score, precision_score\n",
    "from sklearn.metrics import confusion_matrix\n",
    "\n",
    "warnings.simplefilter(action='ignore', category=FutureWarning)\n",
    "warnings.filterwarnings('ignore', category=FutureWarning)"
   ]
  },
  {
   "cell_type": "code",
   "execution_count": 3,
   "id": "201bcd49",
   "metadata": {
    "execution": {
     "iopub.execute_input": "2024-05-24T00:32:11.324953Z",
     "iopub.status.busy": "2024-05-24T00:32:11.324547Z",
     "iopub.status.idle": "2024-05-24T00:32:11.555639Z",
     "shell.execute_reply": "2024-05-24T00:32:11.554285Z"
    },
    "papermill": {
     "duration": 0.242184,
     "end_time": "2024-05-24T00:32:11.558649",
     "exception": false,
     "start_time": "2024-05-24T00:32:11.316465",
     "status": "completed"
    },
    "tags": []
   },
   "outputs": [
    {
     "data": {
      "text/html": [
       "<div>\n",
       "<style scoped>\n",
       "    .dataframe tbody tr th:only-of-type {\n",
       "        vertical-align: middle;\n",
       "    }\n",
       "\n",
       "    .dataframe tbody tr th {\n",
       "        vertical-align: top;\n",
       "    }\n",
       "\n",
       "    .dataframe thead th {\n",
       "        text-align: right;\n",
       "    }\n",
       "</style>\n",
       "<table border=\"1\" class=\"dataframe\">\n",
       "  <thead>\n",
       "    <tr style=\"text-align: right;\">\n",
       "      <th></th>\n",
       "      <th>id</th>\n",
       "      <th>Gender</th>\n",
       "      <th>Age</th>\n",
       "      <th>Height</th>\n",
       "      <th>Weight</th>\n",
       "      <th>family_history_with_overweight</th>\n",
       "      <th>FAVC</th>\n",
       "      <th>FCVC</th>\n",
       "      <th>NCP</th>\n",
       "      <th>CAEC</th>\n",
       "      <th>SMOKE</th>\n",
       "      <th>CH2O</th>\n",
       "      <th>SCC</th>\n",
       "      <th>FAF</th>\n",
       "      <th>TUE</th>\n",
       "      <th>CALC</th>\n",
       "      <th>MTRANS</th>\n",
       "      <th>NObeyesdad</th>\n",
       "    </tr>\n",
       "  </thead>\n",
       "  <tbody>\n",
       "    <tr>\n",
       "      <th>0</th>\n",
       "      <td>0</td>\n",
       "      <td>Male</td>\n",
       "      <td>24.443011</td>\n",
       "      <td>1.699998</td>\n",
       "      <td>81.669950</td>\n",
       "      <td>yes</td>\n",
       "      <td>yes</td>\n",
       "      <td>2.000000</td>\n",
       "      <td>2.983297</td>\n",
       "      <td>Sometimes</td>\n",
       "      <td>no</td>\n",
       "      <td>2.763573</td>\n",
       "      <td>no</td>\n",
       "      <td>0.000000</td>\n",
       "      <td>0.976473</td>\n",
       "      <td>Sometimes</td>\n",
       "      <td>Public_Transportation</td>\n",
       "      <td>Overweight_Level_II</td>\n",
       "    </tr>\n",
       "    <tr>\n",
       "      <th>1</th>\n",
       "      <td>1</td>\n",
       "      <td>Female</td>\n",
       "      <td>18.000000</td>\n",
       "      <td>1.560000</td>\n",
       "      <td>57.000000</td>\n",
       "      <td>yes</td>\n",
       "      <td>yes</td>\n",
       "      <td>2.000000</td>\n",
       "      <td>3.000000</td>\n",
       "      <td>Frequently</td>\n",
       "      <td>no</td>\n",
       "      <td>2.000000</td>\n",
       "      <td>no</td>\n",
       "      <td>1.000000</td>\n",
       "      <td>1.000000</td>\n",
       "      <td>no</td>\n",
       "      <td>Automobile</td>\n",
       "      <td>Normal_Weight</td>\n",
       "    </tr>\n",
       "    <tr>\n",
       "      <th>2</th>\n",
       "      <td>2</td>\n",
       "      <td>Female</td>\n",
       "      <td>18.000000</td>\n",
       "      <td>1.711460</td>\n",
       "      <td>50.165754</td>\n",
       "      <td>yes</td>\n",
       "      <td>yes</td>\n",
       "      <td>1.880534</td>\n",
       "      <td>1.411685</td>\n",
       "      <td>Sometimes</td>\n",
       "      <td>no</td>\n",
       "      <td>1.910378</td>\n",
       "      <td>no</td>\n",
       "      <td>0.866045</td>\n",
       "      <td>1.673584</td>\n",
       "      <td>no</td>\n",
       "      <td>Public_Transportation</td>\n",
       "      <td>Insufficient_Weight</td>\n",
       "    </tr>\n",
       "    <tr>\n",
       "      <th>3</th>\n",
       "      <td>3</td>\n",
       "      <td>Female</td>\n",
       "      <td>20.952737</td>\n",
       "      <td>1.710730</td>\n",
       "      <td>131.274851</td>\n",
       "      <td>yes</td>\n",
       "      <td>yes</td>\n",
       "      <td>3.000000</td>\n",
       "      <td>3.000000</td>\n",
       "      <td>Sometimes</td>\n",
       "      <td>no</td>\n",
       "      <td>1.674061</td>\n",
       "      <td>no</td>\n",
       "      <td>1.467863</td>\n",
       "      <td>0.780199</td>\n",
       "      <td>Sometimes</td>\n",
       "      <td>Public_Transportation</td>\n",
       "      <td>Obesity_Type_III</td>\n",
       "    </tr>\n",
       "    <tr>\n",
       "      <th>4</th>\n",
       "      <td>4</td>\n",
       "      <td>Male</td>\n",
       "      <td>31.641081</td>\n",
       "      <td>1.914186</td>\n",
       "      <td>93.798055</td>\n",
       "      <td>yes</td>\n",
       "      <td>yes</td>\n",
       "      <td>2.679664</td>\n",
       "      <td>1.971472</td>\n",
       "      <td>Sometimes</td>\n",
       "      <td>no</td>\n",
       "      <td>1.979848</td>\n",
       "      <td>no</td>\n",
       "      <td>1.967973</td>\n",
       "      <td>0.931721</td>\n",
       "      <td>Sometimes</td>\n",
       "      <td>Public_Transportation</td>\n",
       "      <td>Overweight_Level_II</td>\n",
       "    </tr>\n",
       "  </tbody>\n",
       "</table>\n",
       "</div>"
      ],
      "text/plain": [
       "   id  Gender        Age    Height      Weight family_history_with_overweight  \\\n",
       "0   0    Male  24.443011  1.699998   81.669950                            yes   \n",
       "1   1  Female  18.000000  1.560000   57.000000                            yes   \n",
       "2   2  Female  18.000000  1.711460   50.165754                            yes   \n",
       "3   3  Female  20.952737  1.710730  131.274851                            yes   \n",
       "4   4    Male  31.641081  1.914186   93.798055                            yes   \n",
       "\n",
       "  FAVC      FCVC       NCP        CAEC SMOKE      CH2O SCC       FAF  \\\n",
       "0  yes  2.000000  2.983297   Sometimes    no  2.763573  no  0.000000   \n",
       "1  yes  2.000000  3.000000  Frequently    no  2.000000  no  1.000000   \n",
       "2  yes  1.880534  1.411685   Sometimes    no  1.910378  no  0.866045   \n",
       "3  yes  3.000000  3.000000   Sometimes    no  1.674061  no  1.467863   \n",
       "4  yes  2.679664  1.971472   Sometimes    no  1.979848  no  1.967973   \n",
       "\n",
       "        TUE       CALC                 MTRANS           NObeyesdad  \n",
       "0  0.976473  Sometimes  Public_Transportation  Overweight_Level_II  \n",
       "1  1.000000         no             Automobile        Normal_Weight  \n",
       "2  1.673584         no  Public_Transportation  Insufficient_Weight  \n",
       "3  0.780199  Sometimes  Public_Transportation     Obesity_Type_III  \n",
       "4  0.931721  Sometimes  Public_Transportation  Overweight_Level_II  "
      ]
     },
     "metadata": {},
     "output_type": "display_data"
    },
    {
     "name": "stdout",
     "output_type": "stream",
     "text": [
      "\n",
      "\n",
      "Train lenght: 20758\n",
      "Test lenght: 13840\n"
     ]
    }
   ],
   "source": [
    "df_test = pd.read_csv(\"../input/playground-series-s4e2/test.csv\")\n",
    "df_train = pd.read_csv(\"../input/playground-series-s4e2/train.csv\")\n",
    "display(df_train.head())\n",
    "print(\"\\n\")\n",
    "print(f'Train lenght: {df_train.shape[0]}')\n",
    "print(f'Test lenght: {df_test.shape[0]}')"
   ]
  },
  {
   "cell_type": "markdown",
   "id": "98eff431",
   "metadata": {
    "papermill": {
     "duration": 0.006775,
     "end_time": "2024-05-24T00:32:11.572683",
     "exception": false,
     "start_time": "2024-05-24T00:32:11.565908",
     "status": "completed"
    },
    "tags": []
   },
   "source": [
    "Features related wih eating habits:\n",
    "\n",
    "* FAVC: Frequent consumption of high caloric food;\n",
    "* FCVC: Frequency of consumption of vegetables;\n",
    "* NCP: Number of main meals;\n",
    "* CAEC: Consumption of food between meals;\n",
    "* CH20: Consumption of water daily;\n",
    "* CALC: Consumption of alcohol.\n",
    "\n",
    "Features related with the physical condition:\n",
    "\n",
    "* SCC: Calories consumption monitoring\n",
    "* FAF: Physical activity frequency;\n",
    "* TUE: Time using technology devices;\n",
    "* MTRANS: Transportation used."
   ]
  },
  {
   "cell_type": "code",
   "execution_count": 4,
   "id": "f9dc7486",
   "metadata": {
    "execution": {
     "iopub.execute_input": "2024-05-24T00:32:11.592935Z",
     "iopub.status.busy": "2024-05-24T00:32:11.592194Z",
     "iopub.status.idle": "2024-05-24T00:32:11.610507Z",
     "shell.execute_reply": "2024-05-24T00:32:11.609017Z"
    },
    "papermill": {
     "duration": 0.033875,
     "end_time": "2024-05-24T00:32:11.613535",
     "exception": false,
     "start_time": "2024-05-24T00:32:11.579660",
     "status": "completed"
    },
    "tags": []
   },
   "outputs": [
    {
     "data": {
      "text/plain": [
       "NObeyesdad\n",
       "Obesity_Type_III       4046\n",
       "Obesity_Type_II        3248\n",
       "Normal_Weight          3082\n",
       "Obesity_Type_I         2910\n",
       "Insufficient_Weight    2523\n",
       "Overweight_Level_II    2522\n",
       "Overweight_Level_I     2427\n",
       "Name: count, dtype: int64"
      ]
     },
     "execution_count": 4,
     "metadata": {},
     "output_type": "execute_result"
    }
   ],
   "source": [
    "#EDA on Data\n",
    "df_train.NObeyesdad.value_counts()"
   ]
  },
  {
   "cell_type": "code",
   "execution_count": 5,
   "id": "e53e913e",
   "metadata": {
    "execution": {
     "iopub.execute_input": "2024-05-24T00:32:11.630480Z",
     "iopub.status.busy": "2024-05-24T00:32:11.630018Z",
     "iopub.status.idle": "2024-05-24T00:32:11.673247Z",
     "shell.execute_reply": "2024-05-24T00:32:11.671977Z"
    },
    "papermill": {
     "duration": 0.054805,
     "end_time": "2024-05-24T00:32:11.675876",
     "exception": false,
     "start_time": "2024-05-24T00:32:11.621071",
     "status": "completed"
    },
    "tags": []
   },
   "outputs": [
    {
     "name": "stdout",
     "output_type": "stream",
     "text": [
      "<class 'pandas.core.frame.DataFrame'>\n",
      "RangeIndex: 20758 entries, 0 to 20757\n",
      "Data columns (total 18 columns):\n",
      " #   Column                          Non-Null Count  Dtype  \n",
      "---  ------                          --------------  -----  \n",
      " 0   id                              20758 non-null  int64  \n",
      " 1   Gender                          20758 non-null  object \n",
      " 2   Age                             20758 non-null  float64\n",
      " 3   Height                          20758 non-null  float64\n",
      " 4   Weight                          20758 non-null  float64\n",
      " 5   family_history_with_overweight  20758 non-null  object \n",
      " 6   FAVC                            20758 non-null  object \n",
      " 7   FCVC                            20758 non-null  float64\n",
      " 8   NCP                             20758 non-null  float64\n",
      " 9   CAEC                            20758 non-null  object \n",
      " 10  SMOKE                           20758 non-null  object \n",
      " 11  CH2O                            20758 non-null  float64\n",
      " 12  SCC                             20758 non-null  object \n",
      " 13  FAF                             20758 non-null  float64\n",
      " 14  TUE                             20758 non-null  float64\n",
      " 15  CALC                            20758 non-null  object \n",
      " 16  MTRANS                          20758 non-null  object \n",
      " 17  NObeyesdad                      20758 non-null  object \n",
      "dtypes: float64(8), int64(1), object(9)\n",
      "memory usage: 2.9+ MB\n"
     ]
    }
   ],
   "source": [
    "df_train.info()"
   ]
  },
  {
   "cell_type": "markdown",
   "id": "3fd0b6c7",
   "metadata": {
    "papermill": {
     "duration": 0.007612,
     "end_time": "2024-05-24T00:32:11.691504",
     "exception": false,
     "start_time": "2024-05-24T00:32:11.683892",
     "status": "completed"
    },
    "tags": []
   },
   "source": [
    "It is a Multiclass Classification problem"
   ]
  },
  {
   "cell_type": "code",
   "execution_count": 6,
   "id": "4d5fdc7d",
   "metadata": {
    "execution": {
     "iopub.execute_input": "2024-05-24T00:32:11.708297Z",
     "iopub.status.busy": "2024-05-24T00:32:11.707875Z",
     "iopub.status.idle": "2024-05-24T00:32:11.769074Z",
     "shell.execute_reply": "2024-05-24T00:32:11.767825Z"
    },
    "papermill": {
     "duration": 0.072877,
     "end_time": "2024-05-24T00:32:11.771901",
     "exception": false,
     "start_time": "2024-05-24T00:32:11.699024",
     "status": "completed"
    },
    "tags": []
   },
   "outputs": [],
   "source": [
    "# Import label encoder \n",
    "from sklearn import preprocessing \n",
    "  \n",
    "# label_encoder object knows  \n",
    "# how to understand word labels. \n",
    "label_encoder = preprocessing.LabelEncoder() \n",
    "  \n",
    "# Encode labels in column . \n",
    "df_train['Gender']= label_encoder.fit_transform(df_train['Gender']) \n",
    "df_train['family_history_with_overweight']= label_encoder.fit_transform(df_train['family_history_with_overweight']) \n",
    "df_train['FAVC']= label_encoder.fit_transform(df_train['FAVC']) \n",
    "df_train['CAEC']= label_encoder.fit_transform(df_train['CAEC']) \n",
    "df_train['SMOKE']= label_encoder.fit_transform(df_train['SMOKE']) \n",
    "df_train['SCC']= label_encoder.fit_transform(df_train['SCC']) \n",
    "df_train['CALC']= label_encoder.fit_transform(df_train['CALC']) \n",
    "df_train['MTRANS']= label_encoder.fit_transform(df_train['MTRANS']) \n",
    "#df_train['NObeyesdad']= label_encoder.fit_transform(df_train['NObeyesdad']) \n"
   ]
  },
  {
   "cell_type": "code",
   "execution_count": 7,
   "id": "c32adc0d",
   "metadata": {
    "execution": {
     "iopub.execute_input": "2024-05-24T00:32:11.788881Z",
     "iopub.status.busy": "2024-05-24T00:32:11.788442Z",
     "iopub.status.idle": "2024-05-24T00:32:11.809685Z",
     "shell.execute_reply": "2024-05-24T00:32:11.808617Z"
    },
    "papermill": {
     "duration": 0.032781,
     "end_time": "2024-05-24T00:32:11.812202",
     "exception": false,
     "start_time": "2024-05-24T00:32:11.779421",
     "status": "completed"
    },
    "tags": []
   },
   "outputs": [
    {
     "data": {
      "text/html": [
       "<div>\n",
       "<style scoped>\n",
       "    .dataframe tbody tr th:only-of-type {\n",
       "        vertical-align: middle;\n",
       "    }\n",
       "\n",
       "    .dataframe tbody tr th {\n",
       "        vertical-align: top;\n",
       "    }\n",
       "\n",
       "    .dataframe thead th {\n",
       "        text-align: right;\n",
       "    }\n",
       "</style>\n",
       "<table border=\"1\" class=\"dataframe\">\n",
       "  <thead>\n",
       "    <tr style=\"text-align: right;\">\n",
       "      <th></th>\n",
       "      <th>id</th>\n",
       "      <th>Gender</th>\n",
       "      <th>Age</th>\n",
       "      <th>Height</th>\n",
       "      <th>Weight</th>\n",
       "      <th>family_history_with_overweight</th>\n",
       "      <th>FAVC</th>\n",
       "      <th>FCVC</th>\n",
       "      <th>NCP</th>\n",
       "      <th>CAEC</th>\n",
       "      <th>SMOKE</th>\n",
       "      <th>CH2O</th>\n",
       "      <th>SCC</th>\n",
       "      <th>FAF</th>\n",
       "      <th>TUE</th>\n",
       "      <th>CALC</th>\n",
       "      <th>MTRANS</th>\n",
       "      <th>NObeyesdad</th>\n",
       "    </tr>\n",
       "  </thead>\n",
       "  <tbody>\n",
       "    <tr>\n",
       "      <th>20753</th>\n",
       "      <td>20753</td>\n",
       "      <td>1</td>\n",
       "      <td>25.137087</td>\n",
       "      <td>1.766626</td>\n",
       "      <td>114.187096</td>\n",
       "      <td>1</td>\n",
       "      <td>1</td>\n",
       "      <td>2.919584</td>\n",
       "      <td>3.000000</td>\n",
       "      <td>2</td>\n",
       "      <td>0</td>\n",
       "      <td>2.151809</td>\n",
       "      <td>0</td>\n",
       "      <td>1.330519</td>\n",
       "      <td>0.196680</td>\n",
       "      <td>1</td>\n",
       "      <td>3</td>\n",
       "      <td>Obesity_Type_II</td>\n",
       "    </tr>\n",
       "    <tr>\n",
       "      <th>20754</th>\n",
       "      <td>20754</td>\n",
       "      <td>1</td>\n",
       "      <td>18.000000</td>\n",
       "      <td>1.710000</td>\n",
       "      <td>50.000000</td>\n",
       "      <td>0</td>\n",
       "      <td>1</td>\n",
       "      <td>3.000000</td>\n",
       "      <td>4.000000</td>\n",
       "      <td>1</td>\n",
       "      <td>0</td>\n",
       "      <td>1.000000</td>\n",
       "      <td>0</td>\n",
       "      <td>2.000000</td>\n",
       "      <td>1.000000</td>\n",
       "      <td>1</td>\n",
       "      <td>3</td>\n",
       "      <td>Insufficient_Weight</td>\n",
       "    </tr>\n",
       "    <tr>\n",
       "      <th>20755</th>\n",
       "      <td>20755</td>\n",
       "      <td>1</td>\n",
       "      <td>20.101026</td>\n",
       "      <td>1.819557</td>\n",
       "      <td>105.580491</td>\n",
       "      <td>1</td>\n",
       "      <td>1</td>\n",
       "      <td>2.407817</td>\n",
       "      <td>3.000000</td>\n",
       "      <td>2</td>\n",
       "      <td>0</td>\n",
       "      <td>2.000000</td>\n",
       "      <td>0</td>\n",
       "      <td>1.158040</td>\n",
       "      <td>1.198439</td>\n",
       "      <td>2</td>\n",
       "      <td>3</td>\n",
       "      <td>Obesity_Type_II</td>\n",
       "    </tr>\n",
       "    <tr>\n",
       "      <th>20756</th>\n",
       "      <td>20756</td>\n",
       "      <td>1</td>\n",
       "      <td>33.852953</td>\n",
       "      <td>1.700000</td>\n",
       "      <td>83.520113</td>\n",
       "      <td>1</td>\n",
       "      <td>1</td>\n",
       "      <td>2.671238</td>\n",
       "      <td>1.971472</td>\n",
       "      <td>2</td>\n",
       "      <td>0</td>\n",
       "      <td>2.144838</td>\n",
       "      <td>0</td>\n",
       "      <td>0.000000</td>\n",
       "      <td>0.973834</td>\n",
       "      <td>2</td>\n",
       "      <td>0</td>\n",
       "      <td>Overweight_Level_II</td>\n",
       "    </tr>\n",
       "    <tr>\n",
       "      <th>20757</th>\n",
       "      <td>20757</td>\n",
       "      <td>1</td>\n",
       "      <td>26.680376</td>\n",
       "      <td>1.816547</td>\n",
       "      <td>118.134898</td>\n",
       "      <td>1</td>\n",
       "      <td>1</td>\n",
       "      <td>3.000000</td>\n",
       "      <td>3.000000</td>\n",
       "      <td>2</td>\n",
       "      <td>0</td>\n",
       "      <td>2.003563</td>\n",
       "      <td>0</td>\n",
       "      <td>0.684487</td>\n",
       "      <td>0.713823</td>\n",
       "      <td>1</td>\n",
       "      <td>3</td>\n",
       "      <td>Obesity_Type_II</td>\n",
       "    </tr>\n",
       "  </tbody>\n",
       "</table>\n",
       "</div>"
      ],
      "text/plain": [
       "          id  Gender        Age    Height      Weight  \\\n",
       "20753  20753       1  25.137087  1.766626  114.187096   \n",
       "20754  20754       1  18.000000  1.710000   50.000000   \n",
       "20755  20755       1  20.101026  1.819557  105.580491   \n",
       "20756  20756       1  33.852953  1.700000   83.520113   \n",
       "20757  20757       1  26.680376  1.816547  118.134898   \n",
       "\n",
       "       family_history_with_overweight  FAVC      FCVC       NCP  CAEC  SMOKE  \\\n",
       "20753                               1     1  2.919584  3.000000     2      0   \n",
       "20754                               0     1  3.000000  4.000000     1      0   \n",
       "20755                               1     1  2.407817  3.000000     2      0   \n",
       "20756                               1     1  2.671238  1.971472     2      0   \n",
       "20757                               1     1  3.000000  3.000000     2      0   \n",
       "\n",
       "           CH2O  SCC       FAF       TUE  CALC  MTRANS           NObeyesdad  \n",
       "20753  2.151809    0  1.330519  0.196680     1       3      Obesity_Type_II  \n",
       "20754  1.000000    0  2.000000  1.000000     1       3  Insufficient_Weight  \n",
       "20755  2.000000    0  1.158040  1.198439     2       3      Obesity_Type_II  \n",
       "20756  2.144838    0  0.000000  0.973834     2       0  Overweight_Level_II  \n",
       "20757  2.003563    0  0.684487  0.713823     1       3      Obesity_Type_II  "
      ]
     },
     "execution_count": 7,
     "metadata": {},
     "output_type": "execute_result"
    }
   ],
   "source": [
    "df_train.tail()"
   ]
  },
  {
   "cell_type": "code",
   "execution_count": 8,
   "id": "ddf7e88d",
   "metadata": {
    "execution": {
     "iopub.execute_input": "2024-05-24T00:32:11.829936Z",
     "iopub.status.busy": "2024-05-24T00:32:11.829513Z",
     "iopub.status.idle": "2024-05-24T00:32:11.839031Z",
     "shell.execute_reply": "2024-05-24T00:32:11.837908Z"
    },
    "papermill": {
     "duration": 0.02124,
     "end_time": "2024-05-24T00:32:11.841598",
     "exception": false,
     "start_time": "2024-05-24T00:32:11.820358",
     "status": "completed"
    },
    "tags": []
   },
   "outputs": [],
   "source": [
    "df_corr=df_train.drop(['id','NObeyesdad'], axis=1)"
   ]
  },
  {
   "cell_type": "code",
   "execution_count": 9,
   "id": "b0090a74",
   "metadata": {
    "execution": {
     "iopub.execute_input": "2024-05-24T00:32:11.860134Z",
     "iopub.status.busy": "2024-05-24T00:32:11.859706Z",
     "iopub.status.idle": "2024-05-24T00:32:13.621561Z",
     "shell.execute_reply": "2024-05-24T00:32:13.620193Z"
    },
    "papermill": {
     "duration": 1.773948,
     "end_time": "2024-05-24T00:32:13.624060",
     "exception": false,
     "start_time": "2024-05-24T00:32:11.850112",
     "status": "completed"
    },
    "tags": []
   },
   "outputs": [
    {
     "data": {
      "text/plain": [
       "<Axes: >"
      ]
     },
     "execution_count": 9,
     "metadata": {},
     "output_type": "execute_result"
    },
    {
     "data": {
      "image/png": "[encoded data removed]",
      "text/plain": [
       "<Figure size 640x480 with 2 Axes>"
      ]
     },
     "metadata": {},
     "output_type": "display_data"
    }
   ],
   "source": [
    "import seaborn as sns\n",
    "%matplotlib inline\n",
    "\n",
    "# load the Auto dataset\n",
    "auto_df = sns.load_dataset('mpg')\n",
    "\n",
    "# calculate the correlation matrix on the numeric columns\n",
    "corr = df_corr.select_dtypes('number').corr()\n",
    "\n",
    "# plot the heatmap\n",
    "sns.heatmap(corr)\n"
   ]
  },
  {
   "cell_type": "code",
   "execution_count": 10,
   "id": "4acb1232",
   "metadata": {
    "execution": {
     "iopub.execute_input": "2024-05-24T00:32:13.644676Z",
     "iopub.status.busy": "2024-05-24T00:32:13.643815Z",
     "iopub.status.idle": "2024-05-24T00:32:13.656330Z",
     "shell.execute_reply": "2024-05-24T00:32:13.655191Z"
    },
    "papermill": {
     "duration": 0.025998,
     "end_time": "2024-05-24T00:32:13.659113",
     "exception": false,
     "start_time": "2024-05-24T00:32:13.633115",
     "status": "completed"
    },
    "tags": []
   },
   "outputs": [],
   "source": [
    "from sklearn.ensemble import RandomForestClassifier\n",
    "\n",
    "y = df_train[\"NObeyesdad\"]\n",
    "\n",
    "features = ['Gender','Age','Height','Weight','family_history_with_overweight','FAVC','FCVC','NCP','CAEC','SMOKE','CH2O','SCC','FAF','TUE','CALC','MTRANS']\n",
    "X = df_train[features]\n",
    "X_val = df_test[features]"
   ]
  },
  {
   "cell_type": "code",
   "execution_count": 11,
   "id": "b137460c",
   "metadata": {
    "execution": {
     "iopub.execute_input": "2024-05-24T00:32:13.679508Z",
     "iopub.status.busy": "2024-05-24T00:32:13.679084Z",
     "iopub.status.idle": "2024-05-24T00:32:13.696347Z",
     "shell.execute_reply": "2024-05-24T00:32:13.695268Z"
    },
    "papermill": {
     "duration": 0.0312,
     "end_time": "2024-05-24T00:32:13.699157",
     "exception": false,
     "start_time": "2024-05-24T00:32:13.667957",
     "status": "completed"
    },
    "tags": []
   },
   "outputs": [],
   "source": [
    "from sklearn.model_selection import train_test_split \n",
    "# Split the data into training and testing sets\n",
    "X_train, X_test, y_train, y_test = train_test_split(\n",
    "    X, y, test_size=0.2, random_state=42)"
   ]
  },
  {
   "cell_type": "code",
   "execution_count": 12,
   "id": "17e5e58c",
   "metadata": {
    "execution": {
     "iopub.execute_input": "2024-05-24T00:32:13.718681Z",
     "iopub.status.busy": "2024-05-24T00:32:13.718307Z",
     "iopub.status.idle": "2024-05-24T00:32:43.640712Z",
     "shell.execute_reply": "2024-05-24T00:32:43.639268Z"
    },
    "papermill": {
     "duration": 29.935789,
     "end_time": "2024-05-24T00:32:43.643681",
     "exception": false,
     "start_time": "2024-05-24T00:32:13.707892",
     "status": "completed"
    },
    "tags": []
   },
   "outputs": [
    {
     "name": "stdout",
     "output_type": "stream",
     "text": [
      "Accuracy: 89.93%\n"
     ]
    }
   ],
   "source": [
    "model = RandomForestClassifier(n_estimators=1000, max_depth=100, random_state=1)\n",
    "model.fit(X_train, y_train)\n",
    "predictions = model.predict(X_test)\n",
    "\n",
    "accuracy = accuracy_score(y_test, predictions)\n",
    "print(\"Accuracy: {:.2f}%\".format(accuracy * 100))\n"
   ]
  },
  {
   "cell_type": "code",
   "execution_count": 13,
   "id": "08286f7b",
   "metadata": {
    "execution": {
     "iopub.execute_input": "2024-05-24T00:32:43.664116Z",
     "iopub.status.busy": "2024-05-24T00:32:43.663711Z",
     "iopub.status.idle": "2024-05-24T00:32:46.552801Z",
     "shell.execute_reply": "2024-05-24T00:32:46.551618Z"
    },
    "papermill": {
     "duration": 2.902488,
     "end_time": "2024-05-24T00:32:46.555676",
     "exception": false,
     "start_time": "2024-05-24T00:32:43.653188",
     "status": "completed"
    },
    "tags": []
   },
   "outputs": [
    {
     "name": "stderr",
     "output_type": "stream",
     "text": [
      "/tmp/ipykernel_18/2126042866.py:2: SettingWithCopyWarning: \n",
      "A value is trying to be set on a copy of a slice from a DataFrame.\n",
      "Try using .loc[row_indexer,col_indexer] = value instead\n",
      "\n",
      "See the caveats in the documentation: https://pandas.pydata.org/pandas-docs/stable/user_guide/indexing.html#returning-a-view-versus-a-copy\n",
      "  X_val['Gender']= label_encoder.fit_transform(X_val['Gender'])\n",
      "/tmp/ipykernel_18/2126042866.py:3: SettingWithCopyWarning: \n",
      "A value is trying to be set on a copy of a slice from a DataFrame.\n",
      "Try using .loc[row_indexer,col_indexer] = value instead\n",
      "\n",
      "See the caveats in the documentation: https://pandas.pydata.org/pandas-docs/stable/user_guide/indexing.html#returning-a-view-versus-a-copy\n",
      "  X_val['family_history_with_overweight']= label_encoder.fit_transform(X_val['family_history_with_overweight'])\n",
      "/tmp/ipykernel_18/2126042866.py:4: SettingWithCopyWarning: \n",
      "A value is trying to be set on a copy of a slice from a DataFrame.\n",
      "Try using .loc[row_indexer,col_indexer] = value instead\n",
      "\n",
      "See the caveats in the documentation: https://pandas.pydata.org/pandas-docs/stable/user_guide/indexing.html#returning-a-view-versus-a-copy\n",
      "  X_val['FAVC']= label_encoder.fit_transform(X_val['FAVC'])\n",
      "/tmp/ipykernel_18/2126042866.py:5: SettingWithCopyWarning: \n",
      "A value is trying to be set on a copy of a slice from a DataFrame.\n",
      "Try using .loc[row_indexer,col_indexer] = value instead\n",
      "\n",
      "See the caveats in the documentation: https://pandas.pydata.org/pandas-docs/stable/user_guide/indexing.html#returning-a-view-versus-a-copy\n",
      "  X_val['CAEC']= label_encoder.fit_transform(X_val['CAEC'])\n",
      "/tmp/ipykernel_18/2126042866.py:6: SettingWithCopyWarning: \n",
      "A value is trying to be set on a copy of a slice from a DataFrame.\n",
      "Try using .loc[row_indexer,col_indexer] = value instead\n",
      "\n",
      "See the caveats in the documentation: https://pandas.pydata.org/pandas-docs/stable/user_guide/indexing.html#returning-a-view-versus-a-copy\n",
      "  X_val['SMOKE']= label_encoder.fit_transform(X_val['SMOKE'])\n",
      "/tmp/ipykernel_18/2126042866.py:7: SettingWithCopyWarning: \n",
      "A value is trying to be set on a copy of a slice from a DataFrame.\n",
      "Try using .loc[row_indexer,col_indexer] = value instead\n",
      "\n",
      "See the caveats in the documentation: https://pandas.pydata.org/pandas-docs/stable/user_guide/indexing.html#returning-a-view-versus-a-copy\n",
      "  X_val['SCC']= label_encoder.fit_transform(X_val['SCC'])\n",
      "/tmp/ipykernel_18/2126042866.py:8: SettingWithCopyWarning: \n",
      "A value is trying to be set on a copy of a slice from a DataFrame.\n",
      "Try using .loc[row_indexer,col_indexer] = value instead\n",
      "\n",
      "See the caveats in the documentation: https://pandas.pydata.org/pandas-docs/stable/user_guide/indexing.html#returning-a-view-versus-a-copy\n",
      "  X_val['CALC']= label_encoder.fit_transform(X_val['CALC'])\n",
      "/tmp/ipykernel_18/2126042866.py:9: SettingWithCopyWarning: \n",
      "A value is trying to be set on a copy of a slice from a DataFrame.\n",
      "Try using .loc[row_indexer,col_indexer] = value instead\n",
      "\n",
      "See the caveats in the documentation: https://pandas.pydata.org/pandas-docs/stable/user_guide/indexing.html#returning-a-view-versus-a-copy\n",
      "  X_val['MTRANS']= label_encoder.fit_transform(X_val['MTRANS'])\n"
     ]
    }
   ],
   "source": [
    "# Encode labels in column . \n",
    "X_val['Gender']= label_encoder.fit_transform(X_val['Gender']) \n",
    "X_val['family_history_with_overweight']= label_encoder.fit_transform(X_val['family_history_with_overweight']) \n",
    "X_val['FAVC']= label_encoder.fit_transform(X_val['FAVC']) \n",
    "X_val['CAEC']= label_encoder.fit_transform(X_val['CAEC']) \n",
    "X_val['SMOKE']= label_encoder.fit_transform(X_val['SMOKE']) \n",
    "X_val['SCC']= label_encoder.fit_transform(X_val['SCC']) \n",
    "X_val['CALC']= label_encoder.fit_transform(X_val['CALC']) \n",
    "X_val['MTRANS']= label_encoder.fit_transform(X_val['MTRANS']) \n",
    "\n",
    "\n",
    "predictions = model.predict(X_val)\n",
    "\n",
    "output = pd.DataFrame({ 'Survived': predictions})\n"
   ]
  },
  {
   "cell_type": "code",
   "execution_count": 14,
   "id": "f066934f",
   "metadata": {
    "execution": {
     "iopub.execute_input": "2024-05-24T00:32:46.575591Z",
     "iopub.status.busy": "2024-05-24T00:32:46.575021Z",
     "iopub.status.idle": "2024-05-24T00:32:46.593930Z",
     "shell.execute_reply": "2024-05-24T00:32:46.592819Z"
    },
    "papermill": {
     "duration": 0.031849,
     "end_time": "2024-05-24T00:32:46.596586",
     "exception": false,
     "start_time": "2024-05-24T00:32:46.564737",
     "status": "completed"
    },
    "tags": []
   },
   "outputs": [
    {
     "data": {
      "text/html": [
       "<div>\n",
       "<style scoped>\n",
       "    .dataframe tbody tr th:only-of-type {\n",
       "        vertical-align: middle;\n",
       "    }\n",
       "\n",
       "    .dataframe tbody tr th {\n",
       "        vertical-align: top;\n",
       "    }\n",
       "\n",
       "    .dataframe thead th {\n",
       "        text-align: right;\n",
       "    }\n",
       "</style>\n",
       "<table border=\"1\" class=\"dataframe\">\n",
       "  <thead>\n",
       "    <tr style=\"text-align: right;\">\n",
       "      <th></th>\n",
       "      <th>id</th>\n",
       "      <th>Survived</th>\n",
       "    </tr>\n",
       "  </thead>\n",
       "  <tbody>\n",
       "    <tr>\n",
       "      <th>0</th>\n",
       "      <td>20758</td>\n",
       "      <td>Obesity_Type_II</td>\n",
       "    </tr>\n",
       "    <tr>\n",
       "      <th>1</th>\n",
       "      <td>20759</td>\n",
       "      <td>Overweight_Level_I</td>\n",
       "    </tr>\n",
       "    <tr>\n",
       "      <th>2</th>\n",
       "      <td>20760</td>\n",
       "      <td>Obesity_Type_III</td>\n",
       "    </tr>\n",
       "    <tr>\n",
       "      <th>3</th>\n",
       "      <td>20761</td>\n",
       "      <td>Obesity_Type_I</td>\n",
       "    </tr>\n",
       "    <tr>\n",
       "      <th>4</th>\n",
       "      <td>20762</td>\n",
       "      <td>Obesity_Type_III</td>\n",
       "    </tr>\n",
       "  </tbody>\n",
       "</table>\n",
       "</div>"
      ],
      "text/plain": [
       "      id            Survived\n",
       "0  20758     Obesity_Type_II\n",
       "1  20759  Overweight_Level_I\n",
       "2  20760    Obesity_Type_III\n",
       "3  20761      Obesity_Type_I\n",
       "4  20762    Obesity_Type_III"
      ]
     },
     "execution_count": 14,
     "metadata": {},
     "output_type": "execute_result"
    }
   ],
   "source": [
    "submission_df=pd.merge(df_test['id'],output , left_index=True, right_index=True)\n",
    "submission_df.head()"
   ]
  },
  {
   "cell_type": "code",
   "execution_count": 15,
   "id": "1f20b093",
   "metadata": {
    "execution": {
     "iopub.execute_input": "2024-05-24T00:32:46.616862Z",
     "iopub.status.busy": "2024-05-24T00:32:46.616409Z",
     "iopub.status.idle": "2024-05-24T00:32:46.655201Z",
     "shell.execute_reply": "2024-05-24T00:32:46.653551Z"
    },
    "papermill": {
     "duration": 0.052317,
     "end_time": "2024-05-24T00:32:46.658107",
     "exception": false,
     "start_time": "2024-05-24T00:32:46.605790",
     "status": "completed"
    },
    "tags": []
   },
   "outputs": [
    {
     "name": "stdout",
     "output_type": "stream",
     "text": [
      "Random Forest Submission\n"
     ]
    }
   ],
   "source": [
    "submission_df.to_csv('submission.csv', index=False)\n",
    "print(\"Random Forest Submission\")"
   ]
  },
  {
   "cell_type": "code",
   "execution_count": null,
   "id": "44876285",
   "metadata": {
    "papermill": {
     "duration": 0.009575,
     "end_time": "2024-05-24T00:32:46.678087",
     "exception": false,
     "start_time": "2024-05-24T00:32:46.668512",
     "status": "completed"
    },
    "tags": []
   },
   "outputs": [],
   "source": []
  }
 ],
 "metadata": {
  "kaggle": {
   "accelerator": "none",
   "dataSources": [
    {
     "databundleVersionId": 7609535,
     "sourceId": 68479,
     "sourceType": "competition"
    }
   ],
   "dockerImageVersionId": 30698,
   "isGpuEnabled": false,
   "isInternetEnabled": true,
   "language": "python",
   "sourceType": "notebook"
  },
  "kernelspec": {
   "display_name": "Python 3",
   "language": "python",
   "name": "python3"
  },
  "language_info": {
   "codemirror_mode": {
    "name": "ipython",
    "version": 3
   },
   "file_extension": ".py",
   "mimetype": "text/x-python",
   "name": "python",
   "nbconvert_exporter": "python",
   "pygments_lexer": "ipython3",
   "version": "3.10.13"
  },
  "papermill": {
   "default_parameters": {},
   "duration": 42.281273,
   "end_time": "2024-05-24T00:32:47.410508",
   "environment_variables": {},
   "exception": null,
   "input_path": "__notebook__.ipynb",
   "output_path": "__notebook__.ipynb",
   "parameters": {},
   "start_time": "2024-05-24T00:32:05.129235",
   "version": "2.5.0"
  }
 },
 "nbformat": 4,
 "nbformat_minor": 5
}
